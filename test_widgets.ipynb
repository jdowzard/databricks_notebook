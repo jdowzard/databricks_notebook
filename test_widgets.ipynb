{
 "cells": [
  {
   "cell_type": "markdown",
   "metadata": {},
   "source": [
    "# Test: ipywidgets (Interactive Widgets)\n",
    "\n",
    "Testing if widgets break or are handled gracefully"
   ]
  },
  {
   "cell_type": "code",
   "execution_count": 1,
   "metadata": {},
   "outputs": [],
   "source": [
    "# Standard imports that should work\n",
    "import pandas as pd\n",
    "print(\"Standard imports work\")"
   ]
  },
  {
   "cell_type": "markdown",
   "metadata": {},
   "source": [
    "## Try importing ipywidgets"
   ]
  },
  {
   "cell_type": "code",
   "execution_count": 2,
   "metadata": {},
   "outputs": [],
   "source": [
    "try:\n",
    "    import ipywidgets as widgets\n",
    "    from IPython.display import display\n",
    "    print(\"ipywidgets imported successfully\")\n",
    "    WIDGETS_AVAILABLE = True\n",
    "except ImportError as e:\n",
    "    print(f\"ipywidgets not available: {e}\")\n",
    "    WIDGETS_AVAILABLE = False"
   ]
  },
  {
   "cell_type": "markdown",
   "metadata": {},
   "source": [
    "## Create a widget (if available)"
   ]
  },
  {
   "cell_type": "code",
   "execution_count": 3,
   "metadata": {},
   "outputs": [],
   "source": [
    "if WIDGETS_AVAILABLE:\n",
    "    # Create a simple slider\n",
    "    slider = widgets.IntSlider(\n",
    "        value=50,\n",
    "        min=0,\n",
    "        max=100,\n",
    "        step=1,\n",
    "        description='Test:'\n",
    "    )\n",
    "    display(slider)\n",
    "    print(\"Widget created successfully\")\n",
    "else:\n",
    "    print(\"Widgets not available, skipping widget creation\")"
   ]
  },
  {
   "cell_type": "markdown",
   "metadata": {},
   "source": [
    "## Continue with normal code"
   ]
  },
  {
   "cell_type": "code",
   "execution_count": 4,
   "metadata": {},
   "outputs": [],
   "source": [
    "# This should work regardless of widgets\n",
    "data = {'value': [1, 2, 3], 'name': ['A', 'B', 'C']}\n",
    "df = pd.DataFrame(data)\n",
    "print(\"DataFrame created successfully\")\n",
    "print(df)"
   ]
  },
  {
   "cell_type": "code",
   "execution_count": 5,
   "metadata": {},
   "outputs": [],
   "source": [
    "result = \"Test completed - widgets \" + (\"worked\" if WIDGETS_AVAILABLE else \"were skipped\")\n",
    "print(result)"
   ]
  }
 ],
 "metadata": {
  "kernelspec": {
   "display_name": "Python 3",
   "language": "python",
   "name": "python3"
  },
  "language_info": {
   "name": "python",
   "version": "3.9.0"
  }
 },
 "nbformat": 4,
 "nbformat_minor": 4
}
